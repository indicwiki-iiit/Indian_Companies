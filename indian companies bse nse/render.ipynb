{
 "cells": [
  {
   "cell_type": "code",
   "execution_count": 2,
   "metadata": {},
   "outputs": [],
   "source": [
    "import ast\n",
    "from jinja2 import Environment, FileSystemLoader,Template\n",
    "import pandas as pd\n",
    "import numpy as np\n",
    "from tqdm import tqdm"
   ]
  },
  {
   "cell_type": "code",
   "execution_count": 3,
   "metadata": {},
   "outputs": [],
   "source": [
    "pd.set_option('display.max_rows', 500)\n",
    "pd.set_option('display.max_columns', 500)\n",
    "pd.set_option('display.width', 1000)\n"
   ]
  },
  {
   "cell_type": "code",
   "execution_count": 4,
   "metadata": {},
   "outputs": [],
   "source": [
    "data=pd.read_excel(\"nonwiki_6.xlsx\")"
   ]
  },
  {
   "cell_type": "code",
   "execution_count": 5,
   "metadata": {},
   "outputs": [],
   "source": [
    "data.set_index('Company',inplace=True)"
   ]
  },
  {
   "cell_type": "code",
   "execution_count": 12,
   "metadata": {},
   "outputs": [],
   "source": [
    "l=data[3423:3429]"
   ]
  },
  {
   "cell_type": "code",
   "execution_count": 29,
   "metadata": {},
   "outputs": [
    {
     "data": {
      "text/plain": [
       "['యూనివర్సల్ Autofoundry లిమిటెడ్ ',\n",
       " 'వీణు జైన్ క్రాంతి కుమార్ బకివాలా, మోనిల్ ఆర్య విమల్ చంద్ జైన్, కిషన్ లాల్ గుప్తా, విమల్ కుమార్ బోర్డియా']"
      ]
     },
     "execution_count": 29,
     "metadata": {},
     "output_type": "execute_result"
    }
   ],
   "source": [
    "l['Description_3'][0].split(\"డైరెక్టర్లు \")"
   ]
  },
  {
   "cell_type": "code",
   "execution_count": 7,
   "metadata": {},
   "outputs": [],
   "source": [
    "def rd(B):\n",
    "    row_dict = {}\n",
    "    cmp_dict = dict(data.loc[B])\n",
    "    for k,v in zip(cmp_dict,cmp_dict.values()):\n",
    "        if not pd.isna(v):\n",
    "            row_dict[\"_\".join(k.split(' '))] = str(v)\n",
    "        else:\n",
    "            row_dict[\"_\".join(k.split(' '))] = 'NaN'\n",
    "    row_dict['Company'] = B\n",
    "    return row_dict\n",
    "\n"
   ]
  },
  {
   "cell_type": "code",
   "execution_count": 8,
   "metadata": {},
   "outputs": [],
   "source": [
    "file_loader = FileSystemLoader('templates')\n",
    "env = Environment(loader=file_loader)"
   ]
  },
  {
   "cell_type": "code",
   "execution_count": 10,
   "metadata": {},
   "outputs": [
    {
     "ename": "UndefinedError",
     "evalue": "list object has no element 1",
     "output_type": "error",
     "traceback": [
      "\u001b[1;31m---------------------------------------------------------------------------\u001b[0m",
      "\u001b[1;31mUndefinedError\u001b[0m                            Traceback (most recent call last)",
      "\u001b[1;32md:\\indicwiki\\render.ipynb Cell 9'\u001b[0m in \u001b[0;36m<cell line: 5>\u001b[1;34m()\u001b[0m\n\u001b[0;32m      <a href='vscode-notebook-cell:/d%3A/indicwiki/render.ipynb#ch0000008?line=2'>3</a>\u001b[0m Bi \u001b[39m=\u001b[39m \u001b[39m'\u001b[39m\u001b[39mUniversal Auto Foundry Ltd.\u001b[39m\u001b[39m'\u001b[39m\n\u001b[0;32m      <a href='vscode-notebook-cell:/d%3A/indicwiki/render.ipynb#ch0000008?line=3'>4</a>\u001b[0m row_dict \u001b[39m=\u001b[39m rd(Bi)\n\u001b[1;32m----> <a href='vscode-notebook-cell:/d%3A/indicwiki/render.ipynb#ch0000008?line=4'>5</a>\u001b[0m \u001b[39mprint\u001b[39m(template\u001b[39m.\u001b[39;49mrender(row_dict))\n",
      "File \u001b[1;32md:\\indicwiki\\indic\\lib\\site-packages\\jinja2\\environment.py:1291\u001b[0m, in \u001b[0;36mTemplate.render\u001b[1;34m(self, *args, **kwargs)\u001b[0m\n\u001b[0;32m   <a href='file:///d%3A/indicwiki/indic/lib/site-packages/jinja2/environment.py?line=1288'>1289</a>\u001b[0m     \u001b[39mreturn\u001b[39;00m concat(\u001b[39mself\u001b[39m\u001b[39m.\u001b[39mroot_render_func(ctx))  \u001b[39m# type: ignore\u001b[39;00m\n\u001b[0;32m   <a href='file:///d%3A/indicwiki/indic/lib/site-packages/jinja2/environment.py?line=1289'>1290</a>\u001b[0m \u001b[39mexcept\u001b[39;00m \u001b[39mException\u001b[39;00m:\n\u001b[1;32m-> <a href='file:///d%3A/indicwiki/indic/lib/site-packages/jinja2/environment.py?line=1290'>1291</a>\u001b[0m     \u001b[39mself\u001b[39;49m\u001b[39m.\u001b[39;49menvironment\u001b[39m.\u001b[39;49mhandle_exception()\n",
      "File \u001b[1;32md:\\indicwiki\\indic\\lib\\site-packages\\jinja2\\environment.py:925\u001b[0m, in \u001b[0;36mEnvironment.handle_exception\u001b[1;34m(self, source)\u001b[0m\n\u001b[0;32m    <a href='file:///d%3A/indicwiki/indic/lib/site-packages/jinja2/environment.py?line=919'>920</a>\u001b[0m \u001b[39m\"\"\"Exception handling helper.  This is used internally to either raise\u001b[39;00m\n\u001b[0;32m    <a href='file:///d%3A/indicwiki/indic/lib/site-packages/jinja2/environment.py?line=920'>921</a>\u001b[0m \u001b[39mrewritten exceptions or return a rendered traceback for the template.\u001b[39;00m\n\u001b[0;32m    <a href='file:///d%3A/indicwiki/indic/lib/site-packages/jinja2/environment.py?line=921'>922</a>\u001b[0m \u001b[39m\"\"\"\u001b[39;00m\n\u001b[0;32m    <a href='file:///d%3A/indicwiki/indic/lib/site-packages/jinja2/environment.py?line=922'>923</a>\u001b[0m \u001b[39mfrom\u001b[39;00m \u001b[39m.\u001b[39;00m\u001b[39mdebug\u001b[39;00m \u001b[39mimport\u001b[39;00m rewrite_traceback_stack\n\u001b[1;32m--> <a href='file:///d%3A/indicwiki/indic/lib/site-packages/jinja2/environment.py?line=924'>925</a>\u001b[0m \u001b[39mraise\u001b[39;00m rewrite_traceback_stack(source\u001b[39m=\u001b[39msource)\n",
      "File \u001b[1;32md:\\indicwiki\\templates\\company1.j2:339\u001b[0m, in \u001b[0;36mtop-level template code\u001b[1;34m()\u001b[0m\n\u001b[0;32m    <a href='file:///d%3A/indicwiki/templates/company1.j2?line=336'>337</a>\u001b[0m {%- endmacro -%}\n\u001b[0;32m    <a href='file:///d%3A/indicwiki/templates/company1.j2?line=337'>338</a>\u001b[0m \n\u001b[1;32m--> <a href='file:///d%3A/indicwiki/templates/company1.j2?line=338'>339</a>\u001b[0m {{- infobox(Company_Tel,REGISTERED_STATE_Tel,COMPANY_CLASS_Tel,Industry_Tel,BSE_code,NSE_code,ISIN,CIN,date_of_incorp_Tel,REGISTRAR_OF_COMPANIES_Tel,Description_3) }}\n\u001b[0;32m    <a href='file:///d%3A/indicwiki/templates/company1.j2?line=339'>340</a>\u001b[0m {{'\\n'}}\n\u001b[0;32m    <a href='file:///d%3A/indicwiki/templates/company1.j2?line=340'>341</a>\u001b[0m {{- intro(Company_Tel,Company,REGISTERED_STATE_Tel,company_size_Tel,DATE_OF_REGISTRATION,Industry_Tel,COMPANY_SUB_CATEGORY_Tel,REGISTRAR_OF_COMPANIES_Tel,Sector_Tel,AUTHORIZED_CAP,PAIDUP_CAPITAL,date_of_incorp_Tel) }}\n",
      "File \u001b[1;32md:\\indicwiki\\indic\\lib\\site-packages\\jinja2\\runtime.py:828\u001b[0m, in \u001b[0;36mMacro._invoke\u001b[1;34m(self, arguments, autoescape)\u001b[0m\n\u001b[0;32m    <a href='file:///d%3A/indicwiki/indic/lib/site-packages/jinja2/runtime.py?line=824'>825</a>\u001b[0m \u001b[39mif\u001b[39;00m \u001b[39mself\u001b[39m\u001b[39m.\u001b[39m_environment\u001b[39m.\u001b[39mis_async:\n\u001b[0;32m    <a href='file:///d%3A/indicwiki/indic/lib/site-packages/jinja2/runtime.py?line=825'>826</a>\u001b[0m     \u001b[39mreturn\u001b[39;00m \u001b[39mself\u001b[39m\u001b[39m.\u001b[39m_async_invoke(arguments, autoescape)  \u001b[39m# type: ignore\u001b[39;00m\n\u001b[1;32m--> <a href='file:///d%3A/indicwiki/indic/lib/site-packages/jinja2/runtime.py?line=827'>828</a>\u001b[0m rv \u001b[39m=\u001b[39m \u001b[39mself\u001b[39;49m\u001b[39m.\u001b[39;49m_func(\u001b[39m*\u001b[39;49marguments)\n\u001b[0;32m    <a href='file:///d%3A/indicwiki/indic/lib/site-packages/jinja2/runtime.py?line=829'>830</a>\u001b[0m \u001b[39mif\u001b[39;00m autoescape:\n\u001b[0;32m    <a href='file:///d%3A/indicwiki/indic/lib/site-packages/jinja2/runtime.py?line=830'>831</a>\u001b[0m     rv \u001b[39m=\u001b[39m Markup(rv)\n",
      "File \u001b[1;32md:\\indicwiki\\templates\\company1.j2:51\u001b[0m, in \u001b[0;36mtemplate\u001b[1;34m()\u001b[0m\n\u001b[0;32m     <a href='file:///d%3A/indicwiki/templates/company1.j2?line=48'>49</a>\u001b[0m {%- if Description_3!= 'NaN' %}\n\u001b[0;32m     <a href='file:///d%3A/indicwiki/templates/company1.j2?line=49'>50</a>\u001b[0m | label12 = ప్రధాన వ్యక్తులు\n\u001b[1;32m---> <a href='file:///d%3A/indicwiki/templates/company1.j2?line=50'>51</a>\u001b[0m | data12 = {{Description_3.split(\"డైరెక్టర్లు \")[1]+\".\"}}\n\u001b[0;32m     <a href='file:///d%3A/indicwiki/templates/company1.j2?line=51'>52</a>\u001b[0m {%- endif %}\n\u001b[0;32m     <a href='file:///d%3A/indicwiki/templates/company1.j2?line=52'>53</a>\u001b[0m {{'}}\\n'}}\n",
      "\u001b[1;31mUndefinedError\u001b[0m: list object has no element 1"
     ]
    }
   ],
   "source": [
    "env.globals.update(zip=zip)\n",
    "template = env.get_template('company1.j2')\n",
    "Bi = 'Universal Auto Foundry Ltd.'\n",
    "row_dict = rd(Bi)\n",
    "print(template.render(row_dict))"
   ]
  },
  {
   "cell_type": "code",
   "execution_count": null,
   "metadata": {},
   "outputs": [],
   "source": []
  },
  {
   "cell_type": "code",
   "execution_count": 11,
   "metadata": {},
   "outputs": [
    {
     "data": {
      "text/plain": [
       "{'Company_Tel': 'యూనివర్సల్ ఆటో ఫౌండ్రీ లిమిటెడ్',\n",
       " 'BSE_code': '539314',\n",
       " 'NSE_code': 'NaN',\n",
       " 'ISIN': 'INE203T01012',\n",
       " 'Sector': 'Automobile',\n",
       " 'Sector_Tel': 'ఆటోమొబైల్',\n",
       " 'Industry': 'Auto Ancillaries',\n",
       " 'Industry_Tel': 'ఆటో అనుబంధాలు',\n",
       " 'Former_Name': 'UNIVERSAL AUTOFOUNDRY PRIVATE LIMITED',\n",
       " 'Former_Name_Tel': 'యూనివర్సల్ ఆటోఫౌండ్రీ ప్రైవేట్ లిమిటెడ్',\n",
       " 'Security_Type_Description': 'EQUITY SHARES',\n",
       " 'Security_Type_Description_Tel': 'ఈక్విటీ షేర్లు',\n",
       " 'ISIN_Status': 'ACTIVE',\n",
       " 'ISIN_Status_Tel': 'యాక్టివ్',\n",
       " 'Name_of_Registrar_Transfer_Agent_': 'KFIN TECHNOLOGIES PRIVATE LIMITED',\n",
       " 'Name_of_Registrar_Transfer_Agent_Tel': 'కెఫిన్ టెక్నాలజీస్ ప్రైవేట్ లిమిటెడ్',\n",
       " 'RTA_Business_Partner_ID': 'IN200800',\n",
       " 'Services_stopped_by_RTA': 'NO',\n",
       " 'Services_stopped_by_RTA_Tel': 'లేవు',\n",
       " 'company_size': 'Tiny',\n",
       " 'company_size_Tel': 'చిన్న',\n",
       " 'pincode': '500032.0',\n",
       " 'CIN': 'L27310RJ2009PLC030038',\n",
       " 'COMPANY_STATUS': 'ACTV',\n",
       " 'COMPANY_STATUS_Tel': 'చురుకుగా',\n",
       " 'COMPANY_CLASS': 'Public',\n",
       " 'COMPANY_CLASS_Tel': 'పబ్లిక్',\n",
       " 'COMPANY_CATEGORY': 'Company limited by Shares',\n",
       " 'COMPANY_CATEGORY_Tel': 'కంపెనీ షేర్ల ద్వారా పరిమితం చేయబడింది',\n",
       " 'COMPANY_SUB_CATEGORY': 'Non-govt company',\n",
       " 'COMPANY_SUB_CATEGORY_Tel': 'ప్రభుత్వేతర సంస్థ',\n",
       " 'DATE_OF_REGISTRATION': '08 అక్టోబర్\\x8d 2009',\n",
       " 'REGISTERED_STATE': 'Rajasthan',\n",
       " 'REGISTERED_STATE_Tel': 'రాజస్థాన్',\n",
       " 'AUTHORIZED_CAP': '85000000.0',\n",
       " 'PAIDUP_CAPITAL': '81100000.0',\n",
       " 'PRINCIPAL_BUSINESS_ACTIVITY_AS_PER_CIN': 'Manufacturing',\n",
       " 'PRINCIPAL_BUSINESS_ACTIVITY_AS_PER_CIN_Tel': 'తయారీ',\n",
       " 'REGISTRAR_OF_COMPANIES': 'ROC\\xa0JAIPUR',\n",
       " 'REGISTRAR_OF_COMPANIES_Tel': 'ROC\\xa0జైపూర్',\n",
       " 'EMAIL_ADDR': 'cs@ufindia.com',\n",
       " 'Description': \"Universal Autofoundry Limited is a Public incorporated on 08 October 2009. It is classified as Non-govt company and is registered at Registrar of Companies, Jaipur. Its authorized share capital is Rs. 85,000,000 and its paid up capital is Rs. 81,100,000. It is inolved in Casting of metals [This group includes casting finished or semi-finished products producing a variety of goods, all characteristic of other activity classes]\\n\\nUniversal Autofoundry Limited's Annual General Meeting (AGM) was last held on 29 September 2020 and as per records from Ministry of Corporate Affairs (MCA), its balance sheet was last filed on 31 March 2020.\\n\\nDirectors of Universal Autofoundry Limited are Veenu Jain, Kranti Kumar Bakiwala, Monil Arya, Vimal Chand Jain, Kishan Lal Gupta, Vimal Kumar Bordia, .\\n\\nUniversal Autofoundry Limited's Corporate Identification Number is (CIN) L27310RJ2009PLC030038 and its registration number is 30038.Its Email address is cs@ufindia.com and its registered address is B-307, ROAD NO. 16 V.K.I. AREA JAIPUR RJ 302013 IN , - , .\\n\\nCurrent status of Universal Autofoundry Limited is - Active.\\n\\n\",\n",
       " 'Description_Tel': 'యూనివర్సల్ Autofoundry లిమిటెడ్ పబ్లిక్ అక్టోబర్ 2009 08 న విలీనం ఇది కాని ప్రభుత్వం కంపెనీగా వర్గీకరింపబడిన మరియు రిజిస్ట్రార్ ఆఫ్ కంపెనీస్, జైపూర్ వద్ద నమోదు ఉంది. దీని అధీకృత వాటా మూలధనం రూ. 85.000.000 మరియు దాని చెల్లింపుల మూలధనం రూ. 81.100.000. ఇది లోహాల కాస్టింగ్లో పాలుపంచుకుంది [ఈ సమూహంలో వివిధ రకాల వస్తువులను ఉత్పత్తి చేసే కాస్టింగ్ పూర్తయిన లేదా సెమీ-ఫినిష్డ్ ఉత్పత్తులను కలిగి ఉంటుంది, అన్ని ఇతర కార్యాచరణ తరగతుల లక్షణాలు]\\n\\nయూనివర్సల్ Autofoundry లిమిటెడ్ యొక్క వార్షిక సాధారణ సమావేశం (ఎజిఎం) గత 29 సెప్టెంబర్ 2020 న జరిగింది, కార్పొరేట్ వ్యవహారాల మంత్రిత్వ శాఖ (ఎంసీఏ) నుండి రికార్డుల ప్రకారం, దాని బ్యాలెన్స్ షీట్ గత 31 మార్చి 2020 న దాఖలు చేశారు.\\n\\nయూనివర్సల్ Autofoundry లిమిటెడ్ డైరెక్టర్లు Veenu జైన్ క్రాంతి కుమార్ Bakiwala, Monil ఆర్య విమల్ చంద్ జైన్, కిషన్ లాల్ గుప్తా, విమల్ కుమార్ Bordia ఉన్నాయి.\\n\\nయూనివర్సల్ Autofoundry లిమిటెడ్ కార్పొరేట్ గుర్తింపు సంఖ్య (CIN) L27310RJ2009PLC030038 మరియు దాని రిజిస్ట్రేషన్ సంఖ్య 30038.Its ఇమెయిల్ చిరునామా cs@ufindia.com ఉంది మరియు దాని నమోదిత చిరునామా B-307, ROAD NO ఉంది. 16 V.K.I. ఏరియా జైపూర్ RJ 302013 IN , - , .\\n\\nయూనివర్సల్ Autofoundry లిమిటెడ్ ప్రస్తుత స్థితి - యాక్టివ్.',\n",
       " 'Description_1': 'యూనివర్సల్ Autofoundry లిమిటెడ్ పబ్లిక్ అక్టోబర్ 2009 08 న విలీనం ఇది కాని ప్రభుత్వం కంపెనీగా వర్గీకరింపబడిన మరియు రిజిస్ట్రార్ ఆఫ్ కంపెనీస్, జైపూర్ వద్ద నమోదు ఉంది. దీని అధీకృత వాటా మూలధనం రూ. 85.000.000 మరియు దాని చెల్లింపుల మూలధనం రూ. 81.100.000. ఇది లోహాల కాస్టింగ్లో పాలుపంచుకుంది [ఈ సమూహంలో వివిధ రకాల వస్తువులను ఉత్పత్తి చేసే కాస్టింగ్ పూర్తయిన లేదా సెమీ-ఫినిష్డ్ ఉత్పత్తులను కలిగి ఉంటుంది, అన్ని ఇతర కార్యాచరణ తరగతుల లక్షణాలు]',\n",
       " 'date_of_incorp_Tel': '08 అక్టోబర్\\x8d 2009',\n",
       " 'Description_3': 'యూనివర్సల్ Autofoundry లిమిటెడ్ డైరెక్టర్లు వీణు జైన్ క్రాంతి కుమార్ బకివాలా, మోనిల్ ఆర్య విమల్ చంద్ జైన్, కిషన్ లాల్ గుప్తా, విమల్ కుమార్ బోర్డియా',\n",
       " 'Description_4': 'యూనివర్సల్ Autofoundry లిమిటెడ్ కార్పొరేట్ గుర్తింపు సంఖ్య (CIN) L27310RJ2009PLC030038 మరియు దాని రిజిస్ట్రేషన్ సంఖ్య 30038.Its ఇమెయిల్ చిరునామా cs@ufindia.com ఉంది మరియు దాని నమోదిత చిరునామా B-307, ROAD NO ఉంది. 16 V.K.I. ఏరియా జైపూర్ RJ 302013 IN , - , .',\n",
       " 'Company': 'Universal Auto Foundry Ltd.'}"
      ]
     },
     "execution_count": 11,
     "metadata": {},
     "output_type": "execute_result"
    }
   ],
   "source": [
    "row_dict"
   ]
  }
 ],
 "metadata": {
  "interpreter": {
   "hash": "56bbb33e2726bcdef286a046fec9a9ae10814c090493f8aa9cd502ffc1e272be"
  },
  "kernelspec": {
   "display_name": "Python 3.8.8 ('indic': venv)",
   "language": "python",
   "name": "python3"
  },
  "language_info": {
   "codemirror_mode": {
    "name": "ipython",
    "version": 3
   },
   "file_extension": ".py",
   "mimetype": "text/x-python",
   "name": "python",
   "nbconvert_exporter": "python",
   "pygments_lexer": "ipython3",
   "version": "3.8.8"
  },
  "orig_nbformat": 4
 },
 "nbformat": 4,
 "nbformat_minor": 2
}
